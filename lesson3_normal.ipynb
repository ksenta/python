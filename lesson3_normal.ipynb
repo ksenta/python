{
 "cells": [
  {
   "cell_type": "code",
   "execution_count": 28,
   "metadata": {},
   "outputs": [
    {
     "name": "stdout",
     "output_type": "stream",
     "text": [
      "Решение задачи 1\n",
      "\n",
      "[8, 13, 21, 34, 55, 89]\n",
      "\n",
      "\n"
     ]
    }
   ],
   "source": [
    "# Задание-1:\n",
    "# Напишите функцию, возвращающую ряд Фибоначчи с n-элемента до m-элемента.\n",
    "# Первыми элементами ряда считать цифры 1 1\n",
    "\n",
    "def fibonacci(n, m):\n",
    "    fib = []\n",
    "    a, b = 1, 1 #задаем первые элементы\n",
    "    for num in range(m):\n",
    "        fib.append(b)\n",
    "        a, b = b, a+b\n",
    "    n -= 1\n",
    "    res = [fib[i] for i in range(n, m)]\n",
    "    print(res)\n",
    "    return res\n",
    "print(\"Решение задачи 1\\n\")\n",
    "fibonacci(5, 10)\n",
    "print(\"\\n\")\n",
    "\n",
    "\n"
   ]
  },
  {
   "cell_type": "code",
   "execution_count": 29,
   "metadata": {},
   "outputs": [
    {
     "name": "stdout",
     "output_type": "stream",
     "text": [
      "Решение задачи 2\n",
      "\n",
      "Список [2, 10, -12, 2.5, 20, -11, 4, 4, 0] отсортирован:\n",
      "[-12, -11, 0, 2, 2.5, 4, 4, 10, 20]\n",
      "\n",
      "\n"
     ]
    }
   ],
   "source": [
    "# Задача-2:\n",
    "# Напишите функцию, сортирующую принимаемый список по возрастанию.\n",
    "# Для сортировки используйте любой алгоритм (например пузырьковый).\n",
    "# Для решения данной задачи нельзя использовать встроенную функцию и метод sort()\n",
    "\n",
    "\n",
    "def sort_to_max(origin_list):\n",
    "    def min_num(li): #определяем минимальное число из списка\n",
    "        min_elem = float('inf')\n",
    "        for elem in li:\n",
    "            if elem < min_elem:\n",
    "                min_elem = elem\n",
    "        return min_elem\n",
    "    sorting_list = [x for x in origin_list]\n",
    "    sorted_list = []\n",
    "    while len(sorting_list):\n",
    "        for elem in sorting_list:\n",
    "            if elem == min_num(sorting_list):\n",
    "                sorted_list.append(elem)\n",
    "                sorting_list.remove(elem)\n",
    "    print('Список {} отсортирован:\\n{}' .format(origin_list, sorted_list))\n",
    "    return sorted_list\n",
    "\n",
    "print(\"Решение задачи 2\\n\")\n",
    "sort_to_max([2, 10, -12, 2.5, 20, -11, 4, 4, 0])\n",
    "print(\"\\n\")"
   ]
  },
  {
   "cell_type": "code",
   "execution_count": 30,
   "metadata": {},
   "outputs": [
    {
     "name": "stdout",
     "output_type": "stream",
     "text": [
      "Решение задачи 3 для [2, 10, -12, 2.5, 20, -11, 4, 4, 0] \n",
      "\n",
      "{10, 20}\n",
      "\n",
      "\n"
     ]
    }
   ],
   "source": [
    "# Задача-3:\n",
    "# Напишите собственную реализацию стандартной функции filter.\n",
    "# Разумеется, внутри нельзя использовать саму функцию filter.\n",
    "\n",
    "def alt_filter(func, itr):\n",
    "    new_itr = [elem for elem in itr if func(elem)]\n",
    "    if type(itr) is tuple:\n",
    "        new_itr = tuple(new_itr)\n",
    "    if type(itr) is set:\n",
    "        new_itr = set(new_itr)\n",
    "    if type(itr) is str:\n",
    "        new_itr = ''.join(new_itr)\n",
    "    print(new_itr)\n",
    "    return new_itr\n",
    "\n",
    "print(\"Решение задачи 3 для [2, 10, -12, 2.5, 20, -11, 4, 4, 0] \\n\")\n",
    "alt_filter(lambda x: x > 5, {2, 10, -12, 2.5, 20, -11, 4, 4, 0})\n",
    "print(\"\\n\")\n"
   ]
  },
  {
   "cell_type": "code",
   "execution_count": 32,
   "metadata": {},
   "outputs": [
    {
     "name": "stdout",
     "output_type": "stream",
     "text": [
      "Решение задачи 4\n",
      "\n",
      "Равенство сторон: верно\n",
      "Равенство половин диагоналей: верно\n",
      "Вершины A1(2, 3), A2(0, 2), A3(4, 1), A4(6, 2)\n",
      "образуют параллелограмм\n"
     ]
    }
   ],
   "source": [
    "# Задача-4:\n",
    "# Даны четыре точки А1(х1, у1), А2(x2 ,у2), А3(x3 , у3), А4(х4, у4).\n",
    "# Определить, будут ли они вершинами параллелограмма.\n",
    "\n",
    "print(\"Решение задачи 4\\n\")\n",
    "\n",
    "A1, A2, A3, A4 = (2, 3), (0, 2), (4, 1), (6, 2)\n",
    "import math\n",
    "def isparall(a, b, c, d):\n",
    "    '''\n",
    "    Проверка признаков параллелограмма\n",
    "    '''\n",
    "    p1 = False\n",
    "    p2 = False\n",
    "    '''\n",
    "    Противоположные стороны параллельны и равны\n",
    "    '''\n",
    "    ab = math.sqrt((b[0] - a[0])**2 + (b[1] - a[1])**2)\n",
    "    cb = math.sqrt((b[0] - c[0])**2 + (b[1] - c[1])**2)\n",
    "    cd = math.sqrt((d[0] - c[0])**2 + (d[1] - c[1])**2)\n",
    "    ad = math.sqrt((d[0] - a[0])**2 + (d[1] - a[1])**2)\n",
    "    if ab == cd and cb == ad:\n",
    "        print('Равенство сторон: верно')\n",
    "        p1 = True\n",
    "    else:\n",
    "        print('Противоположные стороны НЕ равны')\n",
    "    '''\n",
    "    Диагонали O1 и O2 в точках пересечения делятся пополам и равны\n",
    "    '''\n",
    "    hO1 = ((a[0] + c[0])/2, (a[1] + c[1])/2)\n",
    "    hO2 = ((b[0] + d[0])/2, (b[1] + d[1])/2)\n",
    "    if hO1 == hO2:\n",
    "        print('Равенство половин диагоналей: верно')\n",
    "        p2 = True\n",
    "    else:\n",
    "        print('Половины диагоналей НЕ равны')\n",
    "\n",
    "    if p1 and p2:\n",
    "        print('Вершины A1{}, A2{}, A3{}, A4{}\\nобразуют параллелограмм'\n",
    "              .format(a, b, c, d))\n",
    "    else:\n",
    "        print('Вершины не образуют параллелограмм')\n",
    "\n",
    "isparall(A1, A2, A3, A4)"
   ]
  },
  {
   "cell_type": "code",
   "execution_count": null,
   "metadata": {},
   "outputs": [],
   "source": []
  }
 ],
 "metadata": {
  "kernelspec": {
   "display_name": "Python 3",
   "language": "python",
   "name": "python3"
  },
  "language_info": {
   "codemirror_mode": {
    "name": "ipython",
    "version": 3
   },
   "file_extension": ".py",
   "mimetype": "text/x-python",
   "name": "python",
   "nbconvert_exporter": "python",
   "pygments_lexer": "ipython3",
   "version": "3.7.3"
  }
 },
 "nbformat": 4,
 "nbformat_minor": 2
}
