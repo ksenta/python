{
 "cells": [
  {
   "cell_type": "code",
   "execution_count": 1,
   "metadata": {},
   "outputs": [
    {
     "name": "stdout",
     "output_type": "stream",
     "text": [
      "1. яблоко\n",
      "2.  банан\n",
      "3.   киви\n",
      "4.  арбуз\n",
      " \n",
      "\n"
     ]
    }
   ],
   "source": [
    "# Задача-1:\n",
    "# Дан список фруктов.\n",
    "# Напишите программу, выводящую фрукты в виде нумерованного списка,\n",
    "# выровненного по правой стороне.\n",
    "\n",
    "# Пример:\n",
    "# Дано: [\"яблоко\", \"банан\", \"киви\", \"арбуз\"]\n",
    "# Вывод:\n",
    "# 1. яблоко\n",
    "# 2.  банан\n",
    "# 3.   киви\n",
    "# 4.  арбуз\n",
    "\n",
    "# Подсказка: воспользоваться методом .format()\n",
    "\n",
    "basket = [\"яблоко\", \"банан\", \"киви\", \"арбуз\"]\n",
    "for i, sup in enumerate(basket):\n",
    "    print(i+1,'{:>7}'.format(sup), sep=\".\")\n",
    "print(\" \", end='\\n\\n')"
   ]
  },
  {
   "cell_type": "code",
   "execution_count": 6,
   "metadata": {},
   "outputs": [
    {
     "name": "stdout",
     "output_type": "stream",
     "text": [
      "['масло', 'яйцо', 4, 6, 11, 22, 33, 55, 66]\n",
      "\n",
      "\n"
     ]
    }
   ],
   "source": [
    "# Задача-2:\n",
    "# Даны два произвольные списка.\n",
    "# Удалите из первого списка элементы, присутствующие во втором списке.\n",
    "\n",
    "list_1 = [\"молоко\", \"масло\", \"мука\", \"яйцо\", [1, 2, 3], 4, 5, 6, 11, 22, 33, 44, 55, 66, 77]\n",
    "list_2 = [\"молоко\", \"мука\", \"майонез\", \"cыр\",  5, 6, 7, 4, [7, 8, 9], [1, 2, 3,], 44, 77, 88, 99, 111]\n",
    "\n",
    "for i, l in enumerate(list_1):\n",
    "    for n in list_2:\n",
    "        if l == n:\n",
    "            list_1.pop(i)\n",
    "            break\n",
    "print(list_1, end='\\n\\n\\n')"
   ]
  },
  {
   "cell_type": "code",
   "execution_count": 12,
   "metadata": {},
   "outputs": [
    {
     "name": "stdout",
     "output_type": "stream",
     "text": [
      "    5         10\n",
      "    6        1.5\n",
      "    7         14\n",
      "    8        2.0\n",
      "    9         18\n",
      "   10        2.5\n",
      "   11         22\n",
      "   12        3.0\n",
      "   13         26\n",
      "   14        3.5\n",
      "   15         30\n",
      "   16        4.0\n"
     ]
    }
   ],
   "source": [
    "# Задача-3:\n",
    "# Дан произвольный список из целых чисел.\n",
    "# Получите НОВЫЙ список из элементов исходного, выполнив следующие условия:\n",
    "# если элемент кратен двум, то разделить его на 4, если не кратен, то умножить на два.\n",
    "\n",
    "list = [5, 6, 7, 8, 9, 10, 11, 12, 13, 14, 15, 16]\n",
    "new_list = []\n",
    "for i in list:\n",
    "    if i % 2 > 0:\n",
    "        new_list.append(i * 2)\n",
    "    else:\n",
    "        new_list.append(i / 4)\n",
    "for n, letter in zip(list, new_list):\n",
    "    print('{:>5} {:>10}'.format(n, letter))"
   ]
  },
  {
   "cell_type": "code",
   "execution_count": null,
   "metadata": {},
   "outputs": [],
   "source": []
  }
 ],
 "metadata": {
  "kernelspec": {
   "display_name": "Python 3",
   "language": "python",
   "name": "python3"
  },
  "language_info": {
   "codemirror_mode": {
    "name": "ipython",
    "version": 3
   },
   "file_extension": ".py",
   "mimetype": "text/x-python",
   "name": "python",
   "nbconvert_exporter": "python",
   "pygments_lexer": "ipython3",
   "version": "3.7.3"
  }
 },
 "nbformat": 4,
 "nbformat_minor": 2
}
