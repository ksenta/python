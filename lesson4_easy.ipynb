{
 "cells": [
  {
   "cell_type": "code",
   "execution_count": 32,
   "metadata": {},
   "outputs": [
    {
     "name": "stdout",
     "output_type": "stream",
     "text": [
      "[-4, -4, -2, 8, 0, 1, 10, -5, -9, 0] -- > [16, 16, 4, 64, 0, 1, 100, 25, 81, 0]\n"
     ]
    }
   ],
   "source": [
    "# Все задачи текущего блока решите с помощью генераторов списков!\n",
    "\n",
    "# Задание-1:\n",
    "# Дан список, заполненный произвольными целыми числами. \n",
    "# Получить новый список, элементы которого будут\n",
    "# квадратами элементов исходного списка\n",
    "# [1, 2, 4, 0] --> [1, 4, 16, 0]\n",
    "\n",
    "import random\n",
    "\n",
    "list1 = [random.randint(-10, 10) for i in range(10)]\n",
    "new_list = [i**2 for i in list1]\n",
    "print(list1, '-- >', new_list)\n",
    "\n"
   ]
  },
  {
   "cell_type": "code",
   "execution_count": 46,
   "metadata": {},
   "outputs": [
    {
     "name": "stdout",
     "output_type": "stream",
     "text": [
      "В обоих списках значатся ['apple', 'banana']\n"
     ]
    }
   ],
   "source": [
    "# Задание-2:\n",
    "# Даны два списка фруктов.\n",
    "# Получить список фруктов, присутствующих в обоих исходных списках.\n",
    "\n",
    "fruit1 = [\"apple\", \"banana\", \"watermelon\", \"orange\"]\n",
    "fruit2 = [\"peach\", \"lemon\", \"apple\", \"pear\" ,\"melon\", \"banana\"]\n",
    "basket = list(set(fruit1) & set(fruit2))\n",
    "#второй вариант: basket = [x for x in first_list if x in second_list]\n",
    "print(f\"В обоих списках значатся {basket}\")"
   ]
  },
  {
   "cell_type": "code",
   "execution_count": 43,
   "metadata": {},
   "outputs": [
    {
     "name": "stdout",
     "output_type": "stream",
     "text": [
      "Дан список: [96, 18, 46, 39, -73, -77, 40, 74, 35, -4]\n",
      "Сортирован по условиям: [18, 39]\n"
     ]
    }
   ],
   "source": [
    "# Задание-3:\n",
    "# Дан список, заполненный произвольными числами.\n",
    "# Получить список из элементов исходного, удовлетворяющих следующим условиям:\n",
    "# + Элемент кратен 3\n",
    "# + Элемент положительный\n",
    "# + Элемент не кратен 4\n",
    "\n",
    "base_list = [random.randint(-100, 100) for _ in range(10)]\n",
    "sorted_list = []\n",
    "for i in base_list:\n",
    "    if i > 0 and i % 3 == 0 and not i % 4 == 0:\n",
    "        sorted_list.append(i)\n",
    "print(f\"Дан список: {base_list}\")\n",
    "print(f\"Сортирован по условиям: {sorted_list}\")\n"
   ]
  },
  {
   "cell_type": "code",
   "execution_count": null,
   "metadata": {},
   "outputs": [],
   "source": []
  },
  {
   "cell_type": "code",
   "execution_count": null,
   "metadata": {},
   "outputs": [],
   "source": []
  }
 ],
 "metadata": {
  "kernelspec": {
   "display_name": "Python 3",
   "language": "python",
   "name": "python3"
  },
  "language_info": {
   "codemirror_mode": {
    "name": "ipython",
    "version": 3
   },
   "file_extension": ".py",
   "mimetype": "text/x-python",
   "name": "python",
   "nbconvert_exporter": "python",
   "pygments_lexer": "ipython3",
   "version": "3.7.3"
  }
 },
 "nbformat": 4,
 "nbformat_minor": 2
}
